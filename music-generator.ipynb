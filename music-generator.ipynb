{
 "cells": [
  {
   "cell_type": "markdown",
   "metadata": {},
   "source": [
    "# Imports"
   ]
  },
  {
   "cell_type": "code",
   "execution_count": null,
   "metadata": {},
   "outputs": [
    {
     "name": "stdout",
     "output_type": "stream",
     "text": [
      "Traceback (most recent call last):\n",
      "  File \"/Users/lstrika/anaconda2/bin/conda\", line 13, in <module>\n",
      "    sys.exit(main())\n",
      "  File \"/Users/lstrika/anaconda2/lib/python2.7/site-packages/conda/cli/main.py\", line 149, in main\n",
      "    from ..exceptions import conda_exception_handler\n",
      "  File \"/Users/lstrika/anaconda2/lib/python2.7/site-packages/conda/exceptions.py\", line 19, in <module>\n",
      "    from ._vendor.auxlib.entity import EntityEncoder\n",
      "  File \"/Users/lstrika/anaconda2/lib/python2.7/site-packages/conda/_vendor/auxlib/entity.py\", line 253, in <module>\n",
      "    from .collection import AttrDict, frozendict, make_immutable\n",
      "  File \"/Users/lstrika/anaconda2/lib/python2.7/site-packages/conda/_vendor/auxlib/collection.py\", line 10, in <module>\n",
      "    from .compat import isiterable, iteritems, odict, text_type\n",
      "  File \"/Users/lstrika/anaconda2/lib/python2.7/site-packages/conda/_vendor/auxlib/compat.py\", line 10, in <module>\n",
      "    from ._vendor.five import WhateverIO as StringIO, with_metaclass\n",
      "  File \"/Users/lstrika/anaconda2/lib/python2.7/site-packages/conda/_vendor/auxlib/_vendor/five.py\", line 80, in <module>\n",
      "    absolute_to_nanoseconds = CoreServices.AbsoluteToNanoseconds\n",
      "  File \"/Users/lstrika/anaconda2/lib/python2.7/ctypes/__init__.py\", line 379, in __getattr__\n",
      "    func = self.__getitem__(name)\n",
      "  File \"/Users/lstrika/anaconda2/lib/python2.7/ctypes/__init__.py\", line 384, in __getitem__\n",
      "    func = self._FuncPtr((name_or_ordinal, self))\n",
      "AttributeError: dlsym(RTLD_DEFAULT, AbsoluteToNanoseconds): symbol not found\n",
      "\u001b[33mDEPRECATION: Python 2.7 will reach the end of its life on January 1st, 2020. Please upgrade your Python as Python 2.7 won't be maintained after that date. A future version of pip will drop support for Python 2.7. More details about Python 2 support in pip, can be found at https://pip.pypa.io/en/latest/development/release-process/#python-2-support\u001b[0m\n",
      "Processing /Users/lstrika/Library/Caches/pip/wheels/00/35/5f/6166b28b727e7e692690305417ee52707335c28041b48de397/music21-4.1.0-cp27-none-any.whl\n"
     ]
    }
   ],
   "source": [
    "!conda activate py37\n",
    "!pip install music21"
   ]
  },
  {
   "cell_type": "code",
   "execution_count": null,
   "metadata": {},
   "outputs": [],
   "source": []
  },
  {
   "cell_type": "code",
   "execution_count": null,
   "metadata": {},
   "outputs": [],
   "source": []
  },
  {
   "cell_type": "code",
   "execution_count": 1,
   "metadata": {},
   "outputs": [],
   "source": [
    "from music21 import *\n",
    "import os\n",
    "import random\n",
    "import numpy as np\n",
    "import matplotlib.pyplot as plt\n",
    "from collections import Counter\n",
    "from sklearn.model_selection import train_test_split\n",
    "\n",
    "from keras.layers import *\n",
    "from keras.models import *\n",
    "from keras.callbacks import *\n",
    "import keras.backend as K\n",
    "from keras.models import load_model"
   ]
  },
  {
   "cell_type": "markdown",
   "metadata": {},
   "source": [
    "# Config variables"
   ]
  },
  {
   "cell_type": "code",
   "execution_count": 3,
   "metadata": {},
   "outputs": [],
   "source": [
    "path = \"gwern/midis\"\n",
    "frequent_notes_threshold = 50\n",
    "\n",
    "n_of_timesteps = 32\n",
    "evaluation_percentage = 0.2 # 20% of the data will be used as evaluation\n",
    "\n",
    "output_dimension = 100\n",
    "kernel_size = 3\n",
    "epochs = 50\n",
    "\n",
    "len_of_predictions = 30"
   ]
  },
  {
   "cell_type": "markdown",
   "metadata": {},
   "source": [
    "# Aux functions"
   ]
  },
  {
   "cell_type": "code",
   "execution_count": 4,
   "metadata": {},
   "outputs": [],
   "source": [
    "def read_midi(file):\n",
    "    \n",
    "    print(\"Reading: \" + file)\n",
    "    \n",
    "    notes=[]\n",
    "    notes_to_parse = None\n",
    "    \n",
    "    #parsing a midi file\n",
    "    try:\n",
    "        midi = converter.parse(file)\n",
    "    except:\n",
    "        return np.array([])\n",
    "  \n",
    "    #grouping based on different instruments\n",
    "    s2 = instrument.partitionByInstrument(midi)\n",
    "    if not s2:\n",
    "        return np.array([])\n",
    "    #Looping over all the instruments\n",
    "    for part in s2.parts:\n",
    "    \n",
    "        #select elements of only piano\n",
    "        if 'Piano' in str(part): \n",
    "        \n",
    "            notes_to_parse = part.recurse() \n",
    "      \n",
    "            #finding whether a particular element is note or a chord\n",
    "            for element in notes_to_parse:\n",
    "                \n",
    "                #note\n",
    "                if isinstance(element, note.Note):\n",
    "                    notes.append(str(element.pitch))\n",
    "                \n",
    "                #chord\n",
    "                elif isinstance(element, chord.Chord):\n",
    "                    notes.append('.'.join(str(n) for n in element.normalOrder))\n",
    "\n",
    "    return np.array(notes)"
   ]
  },
  {
   "cell_type": "code",
   "execution_count": 5,
   "metadata": {},
   "outputs": [],
   "source": [
    "def convert_to_midi(prediction_output, filename):\n",
    "   \n",
    "    offset = 0\n",
    "    output_notes = []\n",
    "\n",
    "    # create note and chord objects based on the values generated by the model\n",
    "    for pattern in prediction_output:\n",
    "        \n",
    "        # pattern is a chord\n",
    "        if ('.' in pattern) or pattern.isdigit():\n",
    "            notes_in_chord = pattern.split('.')\n",
    "            notes = []\n",
    "            for current_note in notes_in_chord:\n",
    "                \n",
    "                cn=int(current_note)\n",
    "                new_note = note.Note(cn)\n",
    "                new_note.storedInstrument = instrument.Piano()\n",
    "                notes.append(new_note)\n",
    "                \n",
    "            new_chord = chord.Chord(notes)\n",
    "            new_chord.offset = offset\n",
    "            output_notes.append(new_chord)\n",
    "            \n",
    "        # pattern is a note\n",
    "        else:\n",
    "            \n",
    "            new_note = note.Note(pattern)\n",
    "            new_note.offset = offset\n",
    "            new_note.storedInstrument = instrument.Piano()\n",
    "            output_notes.append(new_note)\n",
    "\n",
    "        # increase offset each iteration so that notes do not stack\n",
    "        offset += 1\n",
    "    midi_stream = stream.Stream(output_notes)\n",
    "    midi_stream.write('midi', fp=filename)\n",
    "    "
   ]
  },
  {
   "cell_type": "markdown",
   "metadata": {},
   "source": [
    "# Core code"
   ]
  },
  {
   "cell_type": "markdown",
   "metadata": {},
   "source": [
    "## Read files"
   ]
  },
  {
   "cell_type": "code",
   "execution_count": 6,
   "metadata": {},
   "outputs": [
    {
     "name": "stdout",
     "output_type": "stream",
     "text": [
      "77152\n",
      "Reading: gwern/midis/lmd_matched/R/R/I/TRRRIVC12903CA6C5A/fa09fc4cc12b6f2d085ecb98650d2de6.midReading: gwern/midis/lmd_matched/R/R/I/TRRRION128F145EBB7/9048c4045d7d8b2837f3725d7995dc1c.midReading: gwern/midis/lmd_matched/R/R/I/TRRRILO128F422FFED/0ec315d7be357f130de5206e67c33b36.midReading: gwern/midis/lmd_matched/R/R/U/TRRRUFD12903CD7092/6ca2a1f03a193c336e18e86b5d845f34.midReading: gwern/midis/lmd_matched/R/R/I/TRRRIVC12903CA6C5A/ef6b163c2a5d18dbffa3b24aaf21419d.mid\n",
      "\n",
      "\n",
      "\n",
      "\n",
      "Reading: gwern/midis/lmd_matched/R/R/I/TRRRIVC12903CA6C5A/6a4b5d29cecc86c2078f93edc8866299.mid\n"
     ]
    },
    {
     "name": "stderr",
     "output_type": "stream",
     "text": [
      "/usr/local/lib/python3.9/site-packages/music21/midi/translate.py:790: TranslateWarning: Unable to determine instrument from <music21.midi.MidiEvent PROGRAM_CHANGE, track=0, channel=10, data=0>; getting generic UnpitchedPercussion\n",
      "  warnings.warn(\n"
     ]
    },
    {
     "name": "stdout",
     "output_type": "stream",
     "text": [
      "Reading: gwern/midis/lmd_matched/R/R/I/TRRRIVC12903CA6C5A/ee79e6b07b5bd944a4571918cdee715b.mid\n"
     ]
    },
    {
     "name": "stderr",
     "output_type": "stream",
     "text": [
      "/usr/local/lib/python3.9/site-packages/music21/midi/translate.py:790: TranslateWarning: Unable to determine instrument from <music21.midi.MidiEvent PROGRAM_CHANGE, track=2, channel=10, data=0>; getting generic UnpitchedPercussion\n",
      "  warnings.warn(\n"
     ]
    },
    {
     "name": "stdout",
     "output_type": "stream",
     "text": [
      "Reading: gwern/midis/lmd_matched/R/R/I/TRRRIVC12903CA6C5A/9f9c81dd249087150c9eac829c0f7c89.mid\n",
      "Reading: gwern/midis/lmd_matched/R/R/N/TRRRNPV128F42AAA55/b9dc31daae7e35deffae077a705e01e7.mid\n",
      "Reading: gwern/midis/lmd_matched/R/R/N/TRRRNGS12903CD16D9/18e05979f4132614733c340185809dee.mid\n"
     ]
    },
    {
     "name": "stderr",
     "output_type": "stream",
     "text": [
      "/usr/local/lib/python3.9/site-packages/music21/midi/translate.py:790: TranslateWarning: Unable to determine instrument from <music21.midi.MidiEvent PROGRAM_CHANGE, track=16, channel=10, data=0>; getting generic UnpitchedPercussion\n",
      "  warnings.warn(\n",
      "/usr/local/lib/python3.9/site-packages/music21/midi/translate.py:790: TranslateWarning: Unable to determine instrument from <music21.midi.MidiEvent PROGRAM_CHANGE, track=17, channel=10, data=0>; getting generic UnpitchedPercussion\n",
      "  warnings.warn(\n",
      "/usr/local/lib/python3.9/site-packages/music21/midi/translate.py:790: TranslateWarning: Unable to determine instrument from <music21.midi.MidiEvent PROGRAM_CHANGE, track=18, channel=10, data=0>; getting generic UnpitchedPercussion\n",
      "  warnings.warn(\n",
      "/usr/local/lib/python3.9/site-packages/music21/midi/translate.py:790: TranslateWarning: Unable to determine instrument from <music21.midi.MidiEvent PROGRAM_CHANGE, track=19, channel=10, data=0>; getting generic UnpitchedPercussion\n",
      "  warnings.warn(\n",
      "/usr/local/lib/python3.9/site-packages/music21/midi/translate.py:790: TranslateWarning: Unable to determine instrument from <music21.midi.MidiEvent PROGRAM_CHANGE, track=20, channel=10, data=0>; getting generic UnpitchedPercussion\n",
      "  warnings.warn(\n",
      "/usr/local/lib/python3.9/site-packages/music21/midi/translate.py:790: TranslateWarning: Unable to determine instrument from <music21.midi.MidiEvent PROGRAM_CHANGE, track=21, channel=10, data=0>; getting generic UnpitchedPercussion\n",
      "  warnings.warn(\n",
      "/usr/local/lib/python3.9/site-packages/music21/midi/translate.py:790: TranslateWarning: Unable to determine instrument from <music21.midi.MidiEvent PROGRAM_CHANGE, track=22, channel=10, data=0>; getting generic UnpitchedPercussion\n",
      "  warnings.warn(\n",
      "/usr/local/lib/python3.9/site-packages/music21/midi/translate.py:790: TranslateWarning: Unable to determine instrument from <music21.midi.MidiEvent PROGRAM_CHANGE, track=23, channel=10, data=0>; getting generic UnpitchedPercussion\n",
      "  warnings.warn(\n",
      "/usr/local/lib/python3.9/site-packages/music21/midi/translate.py:790: TranslateWarning: Unable to determine instrument from <music21.midi.MidiEvent PROGRAM_CHANGE, track=24, channel=10, data=0>; getting generic UnpitchedPercussion\n",
      "  warnings.warn(\n"
     ]
    },
    {
     "name": "stdout",
     "output_type": "stream",
     "text": [
      "filtering...\n",
      "notes...\n",
      "took 39.8263201713562 seconds\n"
     ]
    },
    {
     "name": "stderr",
     "output_type": "stream",
     "text": [
      "/var/folders/xy/dzytbyv51dd88zf00d9qj1100000gn/T/ipykernel_6522/2862025795.py:17: DeprecationWarning: The truth value of an empty array is ambiguous. Returning False, but in future this will result in an error. Use `array.size > 0` to check that an array is not empty.\n",
      "  notes_array = [e for e in notes_array if e != np.array([])]\n",
      "/var/folders/xy/dzytbyv51dd88zf00d9qj1100000gn/T/ipykernel_6522/2862025795.py:17: FutureWarning: elementwise comparison failed; returning scalar instead, but in the future will perform elementwise comparison\n",
      "  notes_array = [e for e in notes_array if e != np.array([])]\n"
     ]
    }
   ],
   "source": [
    "from glob import glob\n",
    "from multiprocess import Pool\n",
    "import time\n",
    "\n",
    "\n",
    "TRAINING_SET_SIZE = 1024\n",
    "NTHREADS = 32\n",
    "\n",
    "files = [y for x in os.walk(path) for y in glob(os.path.join(x[0], '*.mid'))]\n",
    "print(len(files))\n",
    "start = time.time()\n",
    "#files=[i for i in os.listdir(path) if i.endswith(\".mid\")]\n",
    "with Pool(NTHREADS) as p:\n",
    "    notes_array = p.map(read_midi, files[:TRAINING_SET_SIZE])\n",
    "\n",
    "print('filtering...')\n",
    "notes_array = [e for e in notes_array if e != np.array([])]\n",
    "\n",
    "notes_array = np.array(notes_array, dtype=object)\n",
    "print('notes...')\n",
    "notes_ = [element for note_ in notes_array for element in note_]\n",
    "end = time.time()\n",
    "\n",
    "print(f'took {end - start} seconds')"
   ]
  },
  {
   "cell_type": "code",
   "execution_count": 7,
   "metadata": {},
   "outputs": [
    {
     "data": {
      "text/plain": [
       "(5,)"
      ]
     },
     "execution_count": 7,
     "metadata": {},
     "output_type": "execute_result"
    }
   ],
   "source": [
    "notes_array.shape"
   ]
  },
  {
   "cell_type": "code",
   "execution_count": 8,
   "metadata": {},
   "outputs": [
    {
     "data": {
      "text/plain": [
       "485.8"
      ]
     },
     "execution_count": 8,
     "metadata": {},
     "output_type": "execute_result"
    }
   ],
   "source": [
    "np.array([t.shape for t in notes_array]).mean()"
   ]
  },
  {
   "cell_type": "markdown",
   "metadata": {},
   "source": [
    "## Analyze data"
   ]
  },
  {
   "cell_type": "code",
   "execution_count": 9,
   "metadata": {},
   "outputs": [
    {
     "name": "stdout",
     "output_type": "stream",
     "text": [
      "145\n"
     ]
    }
   ],
   "source": [
    "unique_notes = list(set(notes_))\n",
    "print(len(unique_notes))"
   ]
  },
  {
   "cell_type": "code",
   "execution_count": 10,
   "metadata": {},
   "outputs": [
    {
     "data": {
      "text/plain": [
       "(array([101.,  20.,  12.,   7.,   1.,   2.,   0.,   1.,   0.,   1.]),\n",
       " array([  1. ,  16.9,  32.8,  48.7,  64.6,  80.5,  96.4, 112.3, 128.2,\n",
       "        144.1, 160. ]),\n",
       " <BarContainer object of 10 artists>)"
      ]
     },
     "execution_count": 10,
     "metadata": {},
     "output_type": "execute_result"
    },
    {
     "data": {
      "image/png": "[encoded data removed]",
      "text/plain": [
       "<Figure size 360x360 with 1 Axes>"
      ]
     },
     "metadata": {
      "image/png": {
       "height": 302,
       "width": 319
      },
      "needs_background": "light"
     },
     "output_type": "display_data"
    }
   ],
   "source": [
    "# Notes frequency\n",
    "freq = dict(Counter(notes_))\n",
    "\n",
    "no=[count for _,count in freq.items()]\n",
    "\n",
    "#set the figure size\n",
    "plt.figure(figsize=(5,5))\n",
    "\n",
    "#plot\n",
    "plt.hist(no)"
   ]
  },
  {
   "cell_type": "markdown",
   "metadata": {},
   "source": [
    "## Preparing data"
   ]
  },
  {
   "cell_type": "code",
   "execution_count": 11,
   "metadata": {},
   "outputs": [],
   "source": [
    "frequent_notes = [note_ for note_, count in freq.items() if count>=frequent_notes_threshold]\n",
    "\n",
    "# Get the same dataset only with frequent notes\n",
    "new_music=[]\n",
    "\n",
    "for notes in notes_array:\n",
    "    new_music.append([note for note in notes if note in frequent_notes])\n",
    "    \n",
    "new_music = np.array(new_music, dtype=object)"
   ]
  },
  {
   "cell_type": "code",
   "execution_count": 12,
   "metadata": {},
   "outputs": [],
   "source": [
    "inputs = []\n",
    "outputs = []\n",
    "\n",
    "for notes_ in new_music:\n",
    "    for i in range(0, len(notes_) - n_of_timesteps, 1):\n",
    "        \n",
    "        inputs.append(notes_[i:i + n_of_timesteps])\n",
    "        outputs.append(notes_[i + n_of_timesteps])\n",
    "        \n",
    "inputs=np.array(inputs)\n",
    "outputs=np.array(outputs)"
   ]
  },
  {
   "cell_type": "code",
   "execution_count": 13,
   "metadata": {},
   "outputs": [],
   "source": [
    "unique_inputs = list(set(inputs.ravel()))\n",
    "input_note_to_int = dict((note_, number) for number, note_ in enumerate(unique_inputs))\n",
    "\n",
    "input_seq=[]\n",
    "for input_ in inputs:\n",
    "    input_seq.append([input_note_to_int[note_] for note_ in input_])\n",
    "    \n",
    "input_seq = np.array(input_seq)"
   ]
  },
  {
   "cell_type": "code",
   "execution_count": 14,
   "metadata": {},
   "outputs": [],
   "source": [
    "unique_outputs = list(set(outputs))\n",
    "output_note_to_int = dict((note_, number) for number, note_ in enumerate(unique_outputs)) \n",
    "output_seq = np.array([output_note_to_int[note_] for note_ in outputs])"
   ]
  },
  {
   "cell_type": "markdown",
   "metadata": {},
   "source": [
    "## Split data into training and evaluation"
   ]
  },
  {
   "cell_type": "code",
   "execution_count": 15,
   "metadata": {},
   "outputs": [],
   "source": [
    "input_training, input_validation, output_training, output_validation = train_test_split(input_seq,output_seq,test_size=evaluation_percentage,random_state=0)"
   ]
  },
  {
   "cell_type": "markdown",
   "metadata": {},
   "source": [
    "## Build model"
   ]
  },
  {
   "cell_type": "code",
   "execution_count": 16,
   "metadata": {},
   "outputs": [],
   "source": [
    "# LSTM architecture. We will use WaveNet for now\n",
    "# def lstm():\n",
    "#   model = Sequential()\n",
    "#   model.add(LSTM(128,return_sequences=True))\n",
    "#   model.add(LSTM(128))\n",
    "#   model.add(Dense(256))\n",
    "#   model.add(Activation('relu'))\n",
    "#   model.add(Dense(n_vocab))\n",
    "#   model.add(Activation('softmax'))\n",
    "#   model.compile(loss='sparse_categorical_crossentropy', optimizer='adam')\n",
    "#   return model"
   ]
  },
  {
   "cell_type": "code",
   "execution_count": 17,
   "metadata": {},
   "outputs": [
    {
     "name": "stderr",
     "output_type": "stream",
     "text": [
      "2021-10-29 10:05:49.270015: I tensorflow/core/platform/cpu_feature_guard.cc:142] This TensorFlow binary is optimized with oneAPI Deep Neural Network Library (oneDNN) to use the following CPU instructions in performance-critical operations:  AVX2 FMA\n",
      "To enable them in other operations, rebuild TensorFlow with the appropriate compiler flags.\n"
     ]
    },
    {
     "name": "stdout",
     "output_type": "stream",
     "text": [
      "Model: \"sequential\"\n",
      "_________________________________________________________________\n",
      "Layer (type)                 Output Shape              Param #   \n",
      "=================================================================\n",
      "embedding (Embedding)        (None, 32, 100)           1200      \n",
      "_________________________________________________________________\n",
      "conv1d (Conv1D)              (None, 32, 128)           38528     \n",
      "_________________________________________________________________\n",
      "dropout (Dropout)            (None, 32, 128)           0         \n",
      "_________________________________________________________________\n",
      "max_pooling1d (MaxPooling1D) (None, 16, 128)           0         \n",
      "_________________________________________________________________\n",
      "conv1d_1 (Conv1D)            (None, 16, 256)           98560     \n",
      "_________________________________________________________________\n",
      "dropout_1 (Dropout)          (None, 16, 256)           0         \n",
      "_________________________________________________________________\n",
      "max_pooling1d_1 (MaxPooling1 (None, 8, 256)            0         \n",
      "_________________________________________________________________\n",
      "conv1d_2 (Conv1D)            (None, 8, 512)            393728    \n",
      "_________________________________________________________________\n",
      "dropout_2 (Dropout)          (None, 8, 512)            0         \n",
      "_________________________________________________________________\n",
      "max_pooling1d_2 (MaxPooling1 (None, 4, 512)            0         \n",
      "_________________________________________________________________\n",
      "global_max_pooling1d (Global (None, 512)               0         \n",
      "_________________________________________________________________\n",
      "dense (Dense)                (None, 512)               262656    \n",
      "_________________________________________________________________\n",
      "dense_1 (Dense)              (None, 12)                6156      \n",
      "=================================================================\n",
      "Total params: 800,828\n",
      "Trainable params: 800,828\n",
      "Non-trainable params: 0\n",
      "_________________________________________________________________\n"
     ]
    }
   ],
   "source": [
    "K.clear_session()\n",
    "model = Sequential()\n",
    "\n",
    "# Parameters explanation: https://keras.io/api/layers/core_layers/embedding/\n",
    "model.add(Embedding(len(unique_inputs), output_dimension, input_length=n_of_timesteps,trainable=True)) \n",
    "\n",
    "# Parameters explanation: https://keras.io/api/layers/convolution_layers/convolution1d/\n",
    "model.add(Conv1D(n_of_timesteps*2*2,kernel_size, padding='causal',activation='relu'))\n",
    "model.add(Dropout(0.2))\n",
    "model.add(MaxPool1D(2))\n",
    "    \n",
    "model.add(Conv1D(n_of_timesteps*4*2,kernel_size, activation='relu',dilation_rate=2,padding='causal'))\n",
    "model.add(Dropout(0.2))\n",
    "model.add(MaxPool1D(2))\n",
    "\n",
    "model.add(Conv1D(n_of_timesteps*8*2,kernel_size, activation='relu',dilation_rate=4,padding='causal'))\n",
    "model.add(Dropout(0.2))\n",
    "model.add(MaxPool1D(2))\n",
    "          \n",
    "#model.add(Conv1D(256,5,activation='relu'))    \n",
    "model.add(GlobalMaxPool1D())\n",
    "\n",
    "# Parameters explanation: https://keras.io/api/layers/core_layers/dense/\n",
    "# 256 -> 512\n",
    "model.add(Dense(512, activation='relu'))\n",
    "model.add(Dense(len(unique_outputs), activation='softmax'))\n",
    "    \n",
    "model.compile(loss='sparse_categorical_crossentropy', optimizer='adam')\n",
    "\n",
    "model.summary()"
   ]
  },
  {
   "cell_type": "markdown",
   "metadata": {},
   "source": [
    "## Fit model"
   ]
  },
  {
   "cell_type": "code",
   "execution_count": 19,
   "metadata": {},
   "outputs": [
    {
     "name": "stdout",
     "output_type": "stream",
     "text": [
      "Epoch 1/10\n",
      "1/1 [==============================] - 2s 2s/step - loss: 2.4147 - val_loss: 2.4110\n",
      "\n",
      "Epoch 00001: val_loss improved from inf to 2.41103, saving model to Gwern_big_model_1024.h5\n",
      "Epoch 2/10\n",
      "1/1 [==============================] - 2s 2s/step - loss: 2.3755 - val_loss: 2.3860\n",
      "\n",
      "Epoch 00002: val_loss improved from 2.41103 to 2.38602, saving model to Gwern_big_model_1024.h5\n",
      "Epoch 3/10\n",
      "1/1 [==============================] - 2s 2s/step - loss: 2.3705 - val_loss: 2.3644\n",
      "\n",
      "Epoch 00003: val_loss improved from 2.38602 to 2.36444, saving model to Gwern_big_model_1024.h5\n",
      "Epoch 4/10\n",
      "1/1 [==============================] - 2s 2s/step - loss: 2.3322 - val_loss: 2.3399\n",
      "\n",
      "Epoch 00004: val_loss improved from 2.36444 to 2.33991, saving model to Gwern_big_model_1024.h5\n",
      "Epoch 5/10\n",
      "1/1 [==============================] - 2s 2s/step - loss: 2.2828 - val_loss: 2.3106\n",
      "\n",
      "Epoch 00005: val_loss improved from 2.33991 to 2.31060, saving model to Gwern_big_model_1024.h5\n",
      "Epoch 6/10\n",
      "1/1 [==============================] - 2s 2s/step - loss: 2.2412 - val_loss: 2.2737\n",
      "\n",
      "Epoch 00006: val_loss improved from 2.31060 to 2.27374, saving model to Gwern_big_model_1024.h5\n",
      "Epoch 7/10\n",
      "1/1 [==============================] - 2s 2s/step - loss: 2.1996 - val_loss: 2.2320\n",
      "\n",
      "Epoch 00007: val_loss improved from 2.27374 to 2.23200, saving model to Gwern_big_model_1024.h5\n",
      "Epoch 8/10\n",
      "1/1 [==============================] - 3s 3s/step - loss: 2.1666 - val_loss: 2.1990\n",
      "\n",
      "Epoch 00008: val_loss improved from 2.23200 to 2.19896, saving model to Gwern_big_model_1024.h5\n",
      "Epoch 9/10\n",
      "1/1 [==============================] - 3s 3s/step - loss: 2.1398 - val_loss: 2.1804\n",
      "\n",
      "Epoch 00009: val_loss improved from 2.19896 to 2.18037, saving model to Gwern_big_model_1024.h5\n",
      "Epoch 10/10\n",
      "1/1 [==============================] - 3s 3s/step - loss: 2.1211 - val_loss: 2.1674\n",
      "\n",
      "Epoch 00010: val_loss improved from 2.18037 to 2.16739, saving model to Gwern_big_model_1024.h5\n"
     ]
    }
   ],
   "source": [
    "model_name = 'Gwern_big_model_1024.h5'\n",
    "epochs = 50\n",
    "checkpoint = ModelCheckpoint(model_name, monitor='val_loss', mode='min', save_best_only=True,verbose=1)\n",
    "history = model.fit(np.array(input_training),np.array(output_training), batch_size=1024, epochs=epochs, validation_data=(np.array(input_validation),np.array(output_validation)),verbose=1, callbacks=[checkpoint])\n"
   ]
  },
  {
   "cell_type": "code",
   "execution_count": 20,
   "metadata": {},
   "outputs": [],
   "source": [
    "model = load_model('Gwern_big_model_1024.h5')"
   ]
  },
  {
   "cell_type": "markdown",
   "metadata": {},
   "source": [
    "## Generate music!"
   ]
  },
  {
   "cell_type": "code",
   "execution_count": 21,
   "metadata": {
    "scrolled": true
   },
   "outputs": [
    {
     "name": "stdout",
     "output_type": "stream",
     "text": [
      "26\n",
      "4\n",
      "4\n",
      "4\n",
      "4\n",
      "4\n",
      "4\n",
      "4\n",
      "4\n",
      "4\n",
      "4\n",
      "4\n",
      "4\n",
      "4\n",
      "4\n",
      "4\n",
      "4\n",
      "4\n",
      "4\n",
      "4\n",
      "4\n",
      "4\n",
      "4\n",
      "4\n",
      "4\n",
      "4\n",
      "4\n",
      "4\n",
      "4\n",
      "4\n",
      "4\n"
     ]
    }
   ],
   "source": [
    "ind = np.random.randint(0,len(input_validation)-1)\n",
    "print(ind)\n",
    "random_music = input_validation[ind]\n",
    "        \n",
    "predictions=[]\n",
    "for i in range(len_of_predictions):\n",
    "\n",
    "    random_music = random_music.reshape(1,n_of_timesteps)\n",
    "\n",
    "    prob   = model.predict(random_music)[0]\n",
    "    \n",
    "    output_pred = np.argmax(prob, axis=0)\n",
    "    print(output_pred)\n",
    "    predictions.append(output_pred)\n",
    "\n",
    "    random_music = np.insert(random_music[0],len(random_music[0]),output_pred)\n",
    "    random_music = random_music[1:]\n",
    "    "
   ]
  },
  {
   "cell_type": "code",
   "execution_count": 22,
   "metadata": {},
   "outputs": [
    {
     "name": "stdout",
     "output_type": "stream",
     "text": [
      "['A4', 'A4', 'A4', 'A4', 'A4', 'A4', 'A4', 'A4', 'A4', 'A4', 'A4', 'A4', 'A4', 'A4', 'A4', 'A4', 'A4', 'A4', 'A4', 'A4', 'A4', 'A4', 'A4', 'A4', 'A4', 'A4', 'A4', 'A4', 'A4', 'A4']\n"
     ]
    }
   ],
   "source": [
    "input_int_to_note = dict((number, note_) for number, note_ in enumerate(unique_inputs)) \n",
    "predicted_notes = [input_int_to_note[i] for i in predictions]\n",
    "print(predicted_notes)"
   ]
  },
  {
   "cell_type": "code",
   "execution_count": 23,
   "metadata": {},
   "outputs": [],
   "source": [
    "convert_to_midi(predicted_notes, 'gwern_music_small_1024_3.mid')"
   ]
  },
  {
   "cell_type": "markdown",
   "metadata": {},
   "source": [
    "## Beam search"
   ]
  },
  {
   "cell_type": "code",
   "execution_count": null,
   "metadata": {},
   "outputs": [],
   "source": [
    "import math\n",
    "\n",
    "def beam_search_generator(starting_data, model, len_of_songs, k):\n",
    "    n_of_timesteps = len(starting_data[0])\n",
    "    \n",
    "    # starting k randomly generated states\n",
    "    indices = np.random.randint(len(starting_data), size=k)\n",
    "    # [prediction, random_music, score]\n",
    "    sequences = [[[], starting_data[index], 0.0] for index in indices]\n",
    "    # walk over each step in sequence\n",
    "\n",
    "    for _ in range(len_of_songs):\n",
    "        assert(len(sequences) == k)\n",
    "        all_candidates = list()\n",
    "        all_random_music = [sequence[1] for sequence in sequences]\n",
    "        all_random_music = np.array(all_random_music).reshape(k, n_of_timesteps)\n",
    "        prob = model.predict(all_random_music)\n",
    "        # expand each current candidate\n",
    "        for i in range(k):\n",
    "            seq, random_music, score = sequences[i]\n",
    "            for j in range(len(prob[i])):\n",
    "                assert(len(random_music) == n_of_timesteps)\n",
    "                new_random_music = np.insert(random_music,len(random_music),j)\n",
    "                new_random_music = new_random_music[1:]\n",
    "                candidate = [seq + [j], new_random_music, score - math.log(prob[i][j])]\n",
    "                all_candidates.append(candidate)\n",
    "\n",
    "        # order all candidates by score\n",
    "        ordered = sorted(all_candidates, key=lambda tup:tup[2])\n",
    "        # select k best\n",
    "        sequences = ordered[:k]\n",
    "    return sequences"
   ]
  },
  {
   "cell_type": "code",
   "execution_count": 25,
   "metadata": {},
   "outputs": [
    {
     "name": "stdout",
     "output_type": "stream",
     "text": [
      "[[1, 1, 1, 6, 1, 1, 1, 1, 1, 1, 1, 1, 1, 1, 1, 1, 1, 1, 1, 1, 1, 1, 1, 1, 1, 1, 1, 1, 1, 1], array([2, 1, 1, 1, 1, 6, 1, 1, 1, 1, 1, 1, 1, 1, 1, 1, 1, 1, 1, 1, 1, 1,\n",
      "       1, 1, 1, 1, 1, 1, 1, 1, 1, 1]), 41.43330583838211]\n",
      "[[1, 1, 1, 1, 1, 1, 1, 6, 1, 1, 1, 1, 1, 1, 1, 1, 1, 1, 1, 1, 1, 1, 1, 1, 1, 1, 1, 1, 1, 1], array([2, 1, 1, 1, 1, 1, 1, 1, 1, 6, 1, 1, 1, 1, 1, 1, 1, 1, 1, 1, 1, 1,\n",
      "       1, 1, 1, 1, 1, 1, 1, 1, 1, 1]), 41.56365799877024]\n",
      "[[1, 1, 1, 1, 1, 1, 1, 1, 1, 1, 1, 1, 1, 1, 1, 1, 1, 1, 1, 1, 1, 1, 1, 1, 1, 1, 1, 1, 1, 1], array([2, 1, 1, 1, 1, 1, 1, 1, 1, 1, 1, 1, 1, 1, 1, 1, 1, 1, 1, 1, 1, 1,\n",
      "       1, 1, 1, 1, 1, 1, 1, 1, 1, 1]), 41.75512872036035]\n"
     ]
    }
   ],
   "source": [
    "# generate music with beam search\n",
    "result = beam_search_generator(input_validation, model, len_of_predictions, 3)\n",
    "# print generated songs\n",
    "for seq in result:\n",
    "    print(seq)"
   ]
  },
  {
   "cell_type": "code",
   "execution_count": 26,
   "metadata": {},
   "outputs": [
    {
     "name": "stdout",
     "output_type": "stream",
     "text": [
      "['A3', 'A3', 'A3', 'A3', 'A3', 'A3', 'A3', 'A3', 'A3', 'A3', 'A3', 'A3', 'A3', 'A3', 'A3', 'A3', 'A3', 'A3', 'A3', 'A3', 'A3', 'A3', 'A3', 'A3', 'A3', 'A3', 'A3', 'A3', 'A3', 'A3']\n"
     ]
    }
   ],
   "source": [
    "# print best song generated and save midi\n",
    "predicted_notes = [input_int_to_note[i] for i in seq[0]]\n",
    "print(predicted_notes)\n",
    "convert_to_midi(predicted_notes, 'gwern_music_small_1024_beam_search.mid')"
   ]
  },
  {
   "cell_type": "markdown",
   "metadata": {},
   "source": [
    "## Perplexity"
   ]
  },
  {
   "cell_type": "code",
   "execution_count": 9,
   "metadata": {},
   "outputs": [],
   "source": [
    "import numpy as np \n",
    "\n",
    "\n",
    "def get_predictions(model, song):\n",
    "    N = len(song)\n",
    "    predictions = []\n",
    "    for i in range(1, N):\n",
    "        # Get the first i notes\n",
    "        partial_song = song[:i]\n",
    "        # Pad it with zeroes to get 32 notes\n",
    "        partial_song_with_padding = np.pad(partial_song, (n_of_timesteps - len(partial_song), 0), 'constant', constant_values=0)\n",
    "        # Evaluate it\n",
    "        prob = model.predict(partial_song_with_padding.reshape(1, 32))\n",
    "        predictions.append(prob[0][-1])\n",
    "    return predictions\n",
    "\n",
    "def stable_perplexity(predictions):\n",
    "    N = len(predictions)\n",
    "    log_perplexity = 0\n",
    "    for prob in predictions:\n",
    "        log_perplexity += np.log(prob)\n",
    "    return np.exp(-log_perplexity/float(N))\n",
    "\n",
    "def default_perplexity(predictions):\n",
    "    N = len(predictions)\n",
    "    perplexity = 1\n",
    "    for prob in predictions:\n",
    "        perplexity*=prob\n",
    "    return (1/perplexity)**(1/float(N))\n",
    "\n",
    "def calculate_perplexity(model, song):\n",
    "    return default_perplexity(get_predictions(model, song))\n",
    "\n",
    "def calculate_perplexity_stable(model, song):    \n",
    "    return stable_perplexity(get_predictions(model, song))\n"
   ]
  },
  {
   "cell_type": "code",
   "execution_count": 35,
   "metadata": {},
   "outputs": [
    {
     "name": "stdout",
     "output_type": "stream",
     "text": [
      "2.6880580828615903\n",
      "2.6880580828615908\n"
     ]
    }
   ],
   "source": [
    "### Test perplexities\n",
    "probs = np.random.random(500)\n",
    "print(stable_perplexity(probs))\n",
    "print(default_perplexity(probs))\n"
   ]
  },
  {
   "cell_type": "code",
   "execution_count": 111,
   "metadata": {},
   "outputs": [
    {
     "name": "stdout",
     "output_type": "stream",
     "text": [
      "1.6449214695973116e-33\n"
     ]
    }
   ],
   "source": [
    "# Calculate perplexity with random song\n",
    "index = np.random.randint(len(input_validation))\n",
    "\n",
    "print(calculate_perplexity(model, input_validation[index]))"
   ]
  },
  {
   "cell_type": "code",
   "execution_count": null,
   "metadata": {},
   "outputs": [],
   "source": []
  }
 ],
 "metadata": {
  "kernelspec": {
   "display_name": "Py37 (textGenRnn)",
   "language": "python",
   "name": "py37"
  },
  "language_info": {
   "codemirror_mode": {
    "name": "ipython",
    "version": 3
   },
   "file_extension": ".py",
   "mimetype": "text/x-python",
   "name": "python",
   "nbconvert_exporter": "python",
   "pygments_lexer": "ipython3",
   "version": "3.7.4"
  }
 },
 "nbformat": 4,
 "nbformat_minor": 5
}
